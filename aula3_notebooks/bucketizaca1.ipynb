{
 "cells": [
  {
   "cell_type": "code",
   "execution_count": 1,
   "id": "43b20e13-d9ad-466e-9076-90ffad7eb047",
   "metadata": {},
   "outputs": [],
   "source": [
    "import numpy as np"
   ]
  },
  {
   "cell_type": "code",
   "execution_count": 3,
   "id": "e3f2afa7-7116-4db5-901b-ad98d8794388",
   "metadata": {},
   "outputs": [
    {
     "data": {
      "text/plain": [
       "array([40,  8, 72, 59, 94, 31, 50, 41, 74, 23, 77, 54, 80, 61, 10, 11,  3,\n",
       "       91, 93, 27])"
      ]
     },
     "execution_count": 3,
     "metadata": {},
     "output_type": "execute_result"
    }
   ],
   "source": [
    "small_counts = np.random.randint(0,100,20)\n",
    "small_counts"
   ]
  },
  {
   "cell_type": "code",
   "execution_count": 4,
   "id": "4a72ea68-b79f-44ff-bcbe-468739365fff",
   "metadata": {},
   "outputs": [
    {
     "data": {
      "text/plain": [
       "array([4, 0, 7, 5, 9, 3, 5, 4, 7, 2, 7, 5, 8, 6, 1, 1, 0, 9, 9, 2])"
      ]
     },
     "execution_count": 4,
     "metadata": {},
     "output_type": "execute_result"
    }
   ],
   "source": [
    "np.floor_divide(small_counts,10)"
   ]
  },
  {
   "cell_type": "code",
   "execution_count": 7,
   "id": "56a72379-668c-4a67-abc5-76994292c5b4",
   "metadata": {},
   "outputs": [],
   "source": [
    "large_counts = [300,296, 8286, 64011, 80, 3, 725, 867, 2215, 7689, 11495, 91897,44, 28, 7971, 926, 122, 22222]"
   ]
  },
  {
   "cell_type": "code",
   "execution_count": 9,
   "id": "a36c0ec3-ecfd-40d4-bec5-e7ae7522f97b",
   "metadata": {},
   "outputs": [
    {
     "data": {
      "text/plain": [
       "array([2.47712125, 2.47129171, 3.91834493, 4.80625461, 1.90308999,\n",
       "       0.47712125, 2.86033801, 2.9380191 , 3.34537373, 3.88586986,\n",
       "       4.06050898, 4.96330133, 1.64345268, 1.44715803, 3.90151281,\n",
       "       2.96661099, 2.08635983, 4.34678314])"
      ]
     },
     "execution_count": 9,
     "metadata": {},
     "output_type": "execute_result"
    }
   ],
   "source": [
    "(np.log10(large_counts))"
   ]
  }
 ],
 "metadata": {
  "kernelspec": {
   "display_name": "Python 3 (ipykernel)",
   "language": "python",
   "name": "python3"
  },
  "language_info": {
   "codemirror_mode": {
    "name": "ipython",
    "version": 3
   },
   "file_extension": ".py",
   "mimetype": "text/x-python",
   "name": "python",
   "nbconvert_exporter": "python",
   "pygments_lexer": "ipython3",
   "version": "3.11.9"
  }
 },
 "nbformat": 4,
 "nbformat_minor": 5
}
